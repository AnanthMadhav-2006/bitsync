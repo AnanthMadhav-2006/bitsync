{
  "nbformat": 4,
  "nbformat_minor": 0,
  "metadata": {
    "colab": {
      "provenance": [],
      "authorship_tag": "ABX9TyMkBljywK8AAR6aUv+811J/",
      "include_colab_link": true
    },
    "kernelspec": {
      "name": "python3",
      "display_name": "Python 3"
    },
    "language_info": {
      "name": "python"
    }
  },
  "cells": [
    {
      "cell_type": "markdown",
      "metadata": {
        "id": "view-in-github",
        "colab_type": "text"
      },
      "source": [
        "<a href=\"https://colab.research.google.com/github/ilatims-b/bitsync/blob/smitali/Bitsync_minitask1ipynb.ipynb\" target=\"_parent\"><img src=\"https://colab.research.google.com/assets/colab-badge.svg\" alt=\"Open In Colab\"/></a>"
      ]
    },
    {
      "cell_type": "code",
      "source": [
        "import numpy as np\n",
        "from numpy.random import choice"
      ],
      "metadata": {
        "id": "SgcziX4DtD-0"
      },
      "execution_count": null,
      "outputs": []
    },
    {
      "cell_type": "code",
      "source": [
        "alphabet=[chr(i) for i in range (65,91)]+[',' , '.']\n",
        "def encode(text):\n",
        "  return [alphabet.index(char) for char in text if char in alphabet]\n",
        "\n",
        "def decode(numbers):\n",
        "  return ''.join(alphabet[num]for num in numbers)\n",
        "\n",
        "def channel(matrix,x):\n",
        "  return[choice(range(len(matrix[0])), p=matrix[symbol]) for symbol in x]\n",
        "\n",
        "def decode_likelihood(output, matrix):\n",
        "  inverse_matrix=np.array(matrix).T\n",
        "  decoded=[np.argmax(inverse_matrix[out])for out in output]\n",
        "  return decoded\n",
        "\n",
        "def channel_capacity(matrix):\n",
        "  px=np.ones(len(matrix))/len(matrix)\n",
        "  py=np.dot(px, matrix)\n",
        "  Ixy=0\n",
        "  for x in range (len(matrix)):\n",
        "    for y in range(len(matrix[x])):\n",
        "      if matrix[x][y]>0:\n",
        "        Ixy+=px[x]*matrix[x][y]*np.log2(matrix[x][y])/py[y]\n",
        "  return Ixy\n"
      ],
      "metadata": {
        "id": "ngXrM99ytNa-"
      },
      "execution_count": 4,
      "outputs": []
    },
    {
      "cell_type": "code",
      "source": [
        "text = \"HELLO WORLD.\"\n",
        "encoded = encode(text)\n",
        "\n",
        "channel_matrix = [[0.9, 0.05, 0.05] + [0] * 25,\n",
        "                  [0.05, 0.9, 0.05] + [0] * 25,\n",
        "                  [0.05, 0.05, 0.9] + [0] * 25] + [[1/28] * 28] * 25\n",
        "\n",
        "output = channel(channel_matrix, encoded)\n",
        "decoded_output = decode(decode_mld(output, channel_matrix))"
      ],
      "metadata": {
        "id": "Yu2bR7Zzxelx"
      },
      "execution_count": 8,
      "outputs": []
    },
    {
      "cell_type": "code",
      "source": [
        "print(\"Original Text:\", text)\n",
        "print(\"Encoded:\", encoded)\n",
        "print(\"Noisy Output:\", output)\n",
        "print(\"Decoded Output:\", decoded_output)\n",
        "print(\"Channel Capacity:\", channel_capacity(channel_matrix))\n"
      ],
      "metadata": {
        "colab": {
          "base_uri": "https://localhost:8080/"
        },
        "id": "V4qSK8YSxi1o",
        "outputId": "a9722709-c878-4b1e-932d-8e6c47e1c465"
      },
      "execution_count": 9,
      "outputs": [
        {
          "output_type": "stream",
          "name": "stdout",
          "text": [
            "Original Text: HELLO WORLD.\n",
            "Encoded: [7, 4, 11, 11, 14, 22, 14, 17, 11, 3, 27]\n",
            "Noisy Output: [np.int64(7), np.int64(0), np.int64(19), np.int64(18), np.int64(5), np.int64(5), np.int64(22), np.int64(20), np.int64(20), np.int64(24), np.int64(7)]\n",
            "Decoded Output: DADDDDDDDDD\n",
            "Channel Capacity: -127.88853812720873\n"
          ]
        }
      ]
    }
  ]
}